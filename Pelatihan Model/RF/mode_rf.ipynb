{
 "cells": [
  {
   "cell_type": "code",
   "execution_count": 41,
   "metadata": {},
   "outputs": [],
   "source": [
    "import numpy as np\n",
    "import pandas as pd\n",
    "import matplotlib.pyplot as plt\n",
    "import seaborn as sns\n",
    "from sklearn.ensemble import RandomForestClassifier\n",
    "from sklearn.metrics import accuracy_score, confusion_matrix, classification_report\n",
    "from sklearn.model_selection import train_test_split, cross_val_score\n",
    "from sklearn.preprocessing import MinMaxScaler\n",
    "import joblib"
   ]
  },
  {
   "cell_type": "code",
   "execution_count": 42,
   "metadata": {},
   "outputs": [
    {
     "name": "stdout",
     "output_type": "stream",
     "text": [
      "Dataset asli:\n",
      "   Participant       EAR       MAR       MOE    Y\n",
      "0          1.0  0.352255  0.998264  2.833928  0.0\n",
      "1          1.0  0.324341  0.993003  3.061603  0.0\n",
      "2          1.0  0.367728  0.999941  2.719243  0.0\n",
      "3          1.0  0.326678  1.000042  3.061252  0.0\n",
      "4          1.0  0.204691  0.975033  4.763446  0.0\n"
     ]
    }
   ],
   "source": [
    "# Memuat dataset dari file\n",
    "file_path = 'dataset.csv'\n",
    "dataset = pd.read_csv(file_path)\n",
    "\n",
    "# Menampilkan dataset asli\n",
    "print(\"Dataset asli:\")\n",
    "print(dataset.head())\n"
   ]
  },
  {
   "cell_type": "code",
   "execution_count": 43,
   "metadata": {},
   "outputs": [
    {
     "name": "stdout",
     "output_type": "stream",
     "text": [
      "\n",
      " Dataset sebelum dilakukan normalisasi (kolom 'EAR','MAR','MOE'):\n",
      "        EAR       MAR       MOE\n",
      "0  0.352255  0.998264  2.833928\n",
      "1  0.324341  0.993003  3.061603\n",
      "2  0.367728  0.999941  2.719243\n",
      "3  0.326678  1.000042  3.061252\n",
      "4  0.204691  0.975033  4.763446\n",
      "\n",
      "Dataset setelah normalisasi (kolom 'EAR', 'MAR', 'MOE'):\n",
      "        EAR       MAR       MOE  Y\n",
      "0  0.546381  0.332282  0.064733  0\n",
      "1  0.492339  0.313073  0.082701  0\n",
      "2  0.576338  0.338405  0.055682  0\n",
      "3  0.496863  0.338774  0.082673  0\n",
      "4  0.260692  0.247457  0.217007  0\n"
     ]
    }
   ],
   "source": [
    "# Normalisasi dataset (kecuali kolom 'Y')\n",
    "dataset['Y'] = dataset['Y'].astype(int)\n",
    "scaler = MinMaxScaler()\n",
    "print(\"\\n Dataset sebelum dilakukan normalisasi (kolom 'EAR','MAR','MOE'):\")\n",
    "print(dataset.head()[['EAR','MAR','MOE']])\n",
    "normalized_data = scaler.fit_transform(dataset[['EAR', 'MAR', 'MOE']])\n",
    "\n",
    "normalized_df = pd.DataFrame(normalized_data, columns=['EAR', 'MAR', 'MOE'])\n",
    "\n",
    "# Menggabungkan kembali data yang dinormalisasi dengan kolom 'Y'\n",
    "normalized_df['Y'] = dataset['Y']\n",
    "\n",
    "# Menampilkan dataset setelah menambahkan kembali kolom 'Y'\n",
    "print(\"\\nDataset setelah normalisasi (kolom 'EAR', 'MAR', 'MOE'):\")\n",
    "print(normalized_df.head())"
   ]
  },
  {
   "cell_type": "code",
   "execution_count": 44,
   "metadata": {},
   "outputs": [
    {
     "name": "stdout",
     "output_type": "stream",
     "text": [
      "\n",
      "Contoh urutan data (X):\n",
      "[[[0.54638101 0.3322821  0.06473324]\n",
      "  [0.49233924 0.31307263 0.08270088]\n",
      "  [0.57633776 0.3384051  0.05568247]\n",
      "  [0.49686293 0.33877442 0.08267318]\n",
      "  [0.26069153 0.24745747 0.21700723]]\n",
      "\n",
      " [[0.49233924 0.31307263 0.08270088]\n",
      "  [0.57633776 0.3384051  0.05568247]\n",
      "  [0.49686293 0.33877442 0.08267318]\n",
      "  [0.26069153 0.24745747 0.21700723]\n",
      "  [0.48828907 0.30449235 0.08369393]]]\n",
      "\n",
      "Contoh label (y):\n",
      "[0. 0.]\n"
     ]
    }
   ],
   "source": [
    "# Membuat urutan data untuk input LSTM dengan panjang urutan 5 (mewakili 5 detik)\n",
    "SEQ_LENGTH = 5\n",
    "\n",
    "def create_sequences(data, seq_length):\n",
    "    xs, ys = [], []\n",
    "    for i in range(len(data) - seq_length):\n",
    "        x = data[i:i+seq_length, :-1]\n",
    "        y = data[i+seq_length, -1]\n",
    "        xs.append(x)\n",
    "        ys.append(y)\n",
    "    return np.array(xs), np.array(ys)\n",
    "\n",
    "X, y = create_sequences(normalized_df.values, SEQ_LENGTH)\n",
    "\n",
    "# Menampilkan beberapa contoh urutan data (sequences)\n",
    "print(\"\\nContoh urutan data (X):\")\n",
    "print(X[:2])\n",
    "print(\"\\nContoh label (y):\")\n",
    "print(y[:2])\n"
   ]
  },
  {
   "cell_type": "code",
   "execution_count": 45,
   "metadata": {},
   "outputs": [],
   "source": [
    "# Memisahkan data menjadi set pelatihan dan pengujian\n",
    "split_ratio = 0.8\n",
    "split = int(split_ratio * len(X))\n",
    "X_train, X_test = X[:split], X[split:]\n",
    "y_train, y_test = y[:split], y[split:]\n"
   ]
  },
  {
   "cell_type": "code",
   "execution_count": 46,
   "metadata": {},
   "outputs": [],
   "source": [
    "X_train_flat = X_train.reshape(X_train.shape[0], -1)\n",
    "X_test_flat = X_test.reshape(X_test.shape[0], -1)"
   ]
  },
  {
   "cell_type": "code",
   "execution_count": 47,
   "metadata": {},
   "outputs": [
    {
     "data": {
      "text/plain": [
       "RandomForestClassifier(random_state=42)"
      ]
     },
     "execution_count": 47,
     "metadata": {},
     "output_type": "execute_result"
    }
   ],
   "source": [
    "# Melatih model Random Forest\n",
    "rf_model = RandomForestClassifier(n_estimators=100,random_state=42,min_samples_split=2,min_samples_leaf=1)\n",
    "rf_model.fit(X_train_flat, y_train)"
   ]
  },
  {
   "cell_type": "code",
   "execution_count": 48,
   "metadata": {},
   "outputs": [],
   "source": [
    "kantuk_indices = np.where(y_test == 10)[0]\n",
    "if len(kantuk_indices) >= 119:\n",
    "    np.random.seed(42)  # Untuk reproducibility\n",
    "    remove_indices = np.random.choice(kantuk_indices, 119, replace=False)\n",
    "    remaining_indices = np.setdiff1d(np.arange(len(y_test)), remove_indices)\n",
    "    X_test = X_test_flat[remaining_indices]\n",
    "    y_test = y_test[remaining_indices]\n",
    "else:\n",
    "    print(\"Tidak cukup sampel dalam kelas kantuk untuk menghapus 119 sampel.\")\n",
    "    X_test = X_test_flat\n",
    "    y_test = y_test"
   ]
  },
  {
   "cell_type": "code",
   "execution_count": 49,
   "metadata": {},
   "outputs": [
    {
     "name": "stdout",
     "output_type": "stream",
     "text": [
      "Random Forest Accuracy: 61.04%\n"
     ]
    }
   ],
   "source": [
    "# Membuat prediksi dan evaluasi\n",
    "y_pred_rf = rf_model.predict(X_test)\n",
    "rf_accuracy = accuracy_score(y_test, y_pred_rf)\n",
    "print(f\"Random Forest Accuracy: {rf_accuracy * 100:.2f}%\")"
   ]
  },
  {
   "cell_type": "code",
   "execution_count": 50,
   "metadata": {},
   "outputs": [],
   "source": [
    "# Menghitung confusion matrix\n",
    "cm_rf = confusion_matrix(y_test, y_pred_rf)"
   ]
  },
  {
   "cell_type": "code",
   "execution_count": 51,
   "metadata": {},
   "outputs": [
    {
     "data": {
      "image/png": "[encoded data removed]",
      "text/plain": [
       "<Figure size 800x600 with 2 Axes>"
      ]
     },
     "metadata": {},
     "output_type": "display_data"
    },
    {
     "name": "stdout",
     "output_type": "stream",
     "text": [
      "              precision    recall  f1-score   support\n",
      "\n",
      "       Siaga       0.57      0.85      0.69      1200\n",
      "      Kantuk       0.71      0.37      0.49      1200\n",
      "\n",
      "    accuracy                           0.61      2400\n",
      "   macro avg       0.64      0.61      0.59      2400\n",
      "weighted avg       0.64      0.61      0.59      2400\n",
      "\n"
     ]
    }
   ],
   "source": [
    "# Buat label untuk confusion matrix\n",
    "labels = np.array([['True Negatives\\n(TN)', 'False Positives\\n(FP)'],\n",
    "                   ['False Negatives\\n(FN)', 'True Positives\\n(TP)']])\n",
    "\n",
    "# Gabungkan label dan nilai ke dalam satu string untuk setiap sel\n",
    "combined_labels = np.asarray([f'{label}\\n{value}' for label, value in zip(labels.flatten(), cm_rf.flatten())]).reshape(2, 2)\n",
    "\n",
    "# Plot confusion matrix\n",
    "plt.figure(figsize=(8, 6))\n",
    "sns.heatmap(cm_rf, annot=combined_labels, fmt='', cmap='Blues', xticklabels=['Siaga', 'Kantuk'], yticklabels=['Siaga', 'Kantuk'])\n",
    "plt.xlabel('Predicted')\n",
    "plt.ylabel('Actual')\n",
    "plt.title('Confusion Matrix - Random Forest')\n",
    "plt.show()\n",
    "\n",
    "# Mencetak laporan klasifikasi\n",
    "print(classification_report(y_test, y_pred_rf, target_names=['Siaga', 'Kantuk']))\n"
   ]
  },
  {
   "cell_type": "code",
   "execution_count": 52,
   "metadata": {},
   "outputs": [
    {
     "name": "stdout",
     "output_type": "stream",
     "text": [
      "              precision    recall  f1-score   support\n",
      "\n",
      "  Not Sleepy       0.57      0.85      0.69      1200\n",
      "      Sleepy       0.71      0.37      0.49      1200\n",
      "\n",
      "    accuracy                           0.61      2400\n",
      "   macro avg       0.64      0.61      0.59      2400\n",
      "weighted avg       0.64      0.61      0.59      2400\n",
      "\n"
     ]
    }
   ],
   "source": [
    "# Mencetak laporan klasifikasi\n",
    "print(classification_report(y_test, y_pred_rf, target_names=['Not Sleepy', 'Sleepy']))"
   ]
  },
  {
   "cell_type": "code",
   "execution_count": 53,
   "metadata": {},
   "outputs": [
    {
     "name": "stdout",
     "output_type": "stream",
     "text": [
      "Model Random Forest disimpan sebagai random_forest_model.pkl\n"
     ]
    }
   ],
   "source": [
    "# Menyimpan model Random Forest ke dalam file di PC\n",
    "model_filename = 'random_forest_model.pkl'\n",
    "joblib.dump(rf_model, model_filename)\n",
    "print(f\"Model Random Forest disimpan sebagai {model_filename}\")"
   ]
  }
 ],
 "metadata": {
  "kernelspec": {
   "display_name": "subek",
   "language": "python",
   "name": "python3"
  },
  "language_info": {
   "codemirror_mode": {
    "name": "ipython",
    "version": 3
   },
   "file_extension": ".py",
   "mimetype": "text/x-python",
   "name": "python",
   "nbconvert_exporter": "python",
   "pygments_lexer": "ipython3",
   "version": "3.7.16"
  }
 },
 "nbformat": 4,
 "nbformat_minor": 2
}
