{
 "cells": [
  {
   "cell_type": "code",
   "execution_count": 1,
   "metadata": {},
   "outputs": [],
   "source": [
    "import pandas as pd\n",
    "import numpy as np\n",
    "from sklearn.preprocessing import MinMaxScaler\n"
   ]
  },
  {
   "cell_type": "code",
   "execution_count": 2,
   "metadata": {},
   "outputs": [
    {
     "name": "stdout",
     "output_type": "stream",
     "text": [
      "Dataset asli:\n",
      "   Participant       EAR       MAR       MOE    Y\n",
      "0          1.0  0.352255  0.998264  2.833928  0.0\n",
      "1          1.0  0.324341  0.993003  3.061603  0.0\n",
      "2          1.0  0.367728  0.999941  2.719243  0.0\n",
      "3          1.0  0.326678  1.000042  3.061252  0.0\n",
      "4          1.0  0.204691  0.975033  4.763446  0.0\n"
     ]
    }
   ],
   "source": [
    "# Memuat dataset dari file\n",
    "file_path = 'dataset.csv'\n",
    "dataset = pd.read_csv(file_path)\n",
    "\n",
    "# Menampilkan dataset asli\n",
    "print(\"Dataset asli:\")\n",
    "print(dataset.head())\n"
   ]
  },
  {
   "cell_type": "code",
   "execution_count": 3,
   "metadata": {},
   "outputs": [
    {
     "name": "stdout",
     "output_type": "stream",
     "text": [
      "\n",
      "Dataset setelah konversi kolom 'Y' ke integer:\n",
      "   Participant       EAR       MAR       MOE  Y\n",
      "0          1.0  0.352255  0.998264  2.833928  0\n",
      "1          1.0  0.324341  0.993003  3.061603  0\n",
      "2          1.0  0.367728  0.999941  2.719243  0\n",
      "3          1.0  0.326678  1.000042  3.061252  0\n",
      "4          1.0  0.204691  0.975033  4.763446  0\n",
      "\n",
      "Dataset setelah konversi kolom 'Y' yang bernilai 10 diganti menjadi nilai 1 :\n",
      "       Participant  EAR  MAR  MOE  Y\n",
      "12595          1.0  1.0  1.0  1.0  1\n",
      "12596          1.0  1.0  1.0  1.0  1\n",
      "12597          1.0  1.0  1.0  1.0  1\n",
      "12598          1.0  1.0  1.0  1.0  1\n",
      "12599          1.0  1.0  1.0  1.0  1\n"
     ]
    }
   ],
   "source": [
    "# Mengonversi kolom 'Y' menjadi tipe integer\n",
    "dataset['Y'] = dataset['Y'].astype(int)\n",
    "dataset[dataset[\"Y\"] == 10] = 1\n",
    "# Menampilkan dataset setelah konversi kolom 'Y'\n",
    "print(\"\\nDataset setelah konversi kolom 'Y' ke integer:\")\n",
    "print(dataset.head())\n",
    "print(\"\\nDataset setelah konversi kolom 'Y' yang bernilai 10 diganti menjadi nilai 1 :\")\n",
    "print(dataset.tail())\n"
   ]
  }
 ],
 "metadata": {
  "kernelspec": {
   "display_name": "subek",
   "language": "python",
   "name": "python3"
  },
  "language_info": {
   "codemirror_mode": {
    "name": "ipython",
    "version": 3
   },
   "file_extension": ".py",
   "mimetype": "text/x-python",
   "name": "python",
   "nbconvert_exporter": "python",
   "pygments_lexer": "ipython3",
   "version": "3.7.16"
  }
 },
 "nbformat": 4,
 "nbformat_minor": 2
}
